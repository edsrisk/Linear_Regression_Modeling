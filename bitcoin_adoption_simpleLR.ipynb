{
 "cells": [
  {
   "cell_type": "markdown",
   "metadata": {},
   "source": [
    "# Simple Linear Regression - Price of Bitcoin Explained by Adoption Rate (Proxy: Volume)"
   ]
  },
  {
   "cell_type": "markdown",
   "metadata": {},
   "source": [
    "##### According to the article 'The Fundamental Drivers of Cyrptocurrency Prices', (https://voxeu.org/article/fundamental-drivers-cryptocurrency-prices), Siddharth, Stefanos and George argue that\n",
    "##### the trustworthiness of the cryptocurrency's blockchain and the adoption of the blockchain are the two key drivers of the prices of cryptocurrency. Due to the lack of market data on adoption\n",
    "##### rate, I will use the volume as a proxy of adoption rate in order to explore the relation between Bitcoin Prices and Adoption Rates. My analysis will look at the relationship over the period\n",
    "##### December 23rd, 2019 to December 23rd, 2020."
   ]
  },
  {
   "cell_type": "code",
   "execution_count": null,
   "metadata": {},
   "outputs": [],
   "source": []
  },
  {
   "cell_type": "markdown",
   "metadata": {},
   "source": [
    "##### Import Libraries and Dependencies"
   ]
  },
  {
   "cell_type": "code",
   "execution_count": 60,
   "metadata": {},
   "outputs": [],
   "source": [
    "from pathlib import Path\n",
    "import numpy as np\n",
    "import matplotlib.pyplot as plt\n",
    "import statsmodels.api as sm\n",
    "import math\n",
    "import pandas as pd\n",
    "\n",
    "from sklearn.model_selection import train_test_split\n",
    "from sklearn.linear_model import LinearRegression\n",
    "from sklearn.metrics import mean_squared_error, r2_score, mean_absolute_error\n",
    "\n",
    "from scipy import stats\n",
    "from scipy.stats import kurtosis, skew\n",
    "\n",
    "%matplotlib inline"
   ]
  },
  {
   "cell_type": "code",
   "execution_count": null,
   "metadata": {},
   "outputs": [],
   "source": []
  },
  {
   "cell_type": "markdown",
   "metadata": {},
   "source": [
    "##### 1. Import Bitcoin-USD datafile (downloaded from yahoo finance: https://finance.yahoo.com/quote/BTC-USD/history?period1=1577124562&period2=1608746962&interval=1d&filter=history&frequency=1d&includeAdjustedClose=true)"
   ]
  },
  {
   "cell_type": "code",
   "execution_count": 61,
   "metadata": {},
   "outputs": [
    {
     "data": {
      "text/plain": [
       "WindowsPath('C:/Users/esuba/Linear_Regression')"
      ]
     },
     "execution_count": 61,
     "metadata": {},
     "output_type": "execute_result"
    }
   ],
   "source": [
    "# Check current working directory\n",
    "Path.cwd()"
   ]
  },
  {
   "cell_type": "code",
   "execution_count": 62,
   "metadata": {},
   "outputs": [
    {
     "data": {
      "text/html": [
       "<div>\n",
       "<style scoped>\n",
       "    .dataframe tbody tr th:only-of-type {\n",
       "        vertical-align: middle;\n",
       "    }\n",
       "\n",
       "    .dataframe tbody tr th {\n",
       "        vertical-align: top;\n",
       "    }\n",
       "\n",
       "    .dataframe thead th {\n",
       "        text-align: right;\n",
       "    }\n",
       "</style>\n",
       "<table border=\"1\" class=\"dataframe\">\n",
       "  <thead>\n",
       "    <tr style=\"text-align: right;\">\n",
       "      <th></th>\n",
       "      <th>Open</th>\n",
       "      <th>High</th>\n",
       "      <th>Low</th>\n",
       "      <th>Close</th>\n",
       "      <th>Adj Close</th>\n",
       "      <th>Volume</th>\n",
       "    </tr>\n",
       "    <tr>\n",
       "      <th>Date</th>\n",
       "      <th></th>\n",
       "      <th></th>\n",
       "      <th></th>\n",
       "      <th></th>\n",
       "      <th></th>\n",
       "      <th></th>\n",
       "    </tr>\n",
       "  </thead>\n",
       "  <tbody>\n",
       "    <tr>\n",
       "      <th>2019-12-23</th>\n",
       "      <td>7508.902344</td>\n",
       "      <td>7656.176270</td>\n",
       "      <td>7326.192383</td>\n",
       "      <td>7355.628418</td>\n",
       "      <td>7355.628418</td>\n",
       "      <td>27831788041</td>\n",
       "    </tr>\n",
       "    <tr>\n",
       "      <th>2019-12-24</th>\n",
       "      <td>7354.393066</td>\n",
       "      <td>7535.716797</td>\n",
       "      <td>7269.528809</td>\n",
       "      <td>7322.532227</td>\n",
       "      <td>7322.532227</td>\n",
       "      <td>22991622105</td>\n",
       "    </tr>\n",
       "    <tr>\n",
       "      <th>2019-12-25</th>\n",
       "      <td>7325.755859</td>\n",
       "      <td>7357.020020</td>\n",
       "      <td>7220.991211</td>\n",
       "      <td>7275.155762</td>\n",
       "      <td>7275.155762</td>\n",
       "      <td>21559505148</td>\n",
       "    </tr>\n",
       "    <tr>\n",
       "      <th>2019-12-26</th>\n",
       "      <td>7274.799316</td>\n",
       "      <td>7388.302734</td>\n",
       "      <td>7200.386719</td>\n",
       "      <td>7238.966797</td>\n",
       "      <td>7238.966797</td>\n",
       "      <td>22787010034</td>\n",
       "    </tr>\n",
       "    <tr>\n",
       "      <th>2019-12-27</th>\n",
       "      <td>7238.141113</td>\n",
       "      <td>7363.529297</td>\n",
       "      <td>7189.934082</td>\n",
       "      <td>7290.088379</td>\n",
       "      <td>7290.088379</td>\n",
       "      <td>22777360995</td>\n",
       "    </tr>\n",
       "  </tbody>\n",
       "</table>\n",
       "</div>"
      ],
      "text/plain": [
       "                   Open         High          Low        Close    Adj Close  \\\n",
       "Date                                                                          \n",
       "2019-12-23  7508.902344  7656.176270  7326.192383  7355.628418  7355.628418   \n",
       "2019-12-24  7354.393066  7535.716797  7269.528809  7322.532227  7322.532227   \n",
       "2019-12-25  7325.755859  7357.020020  7220.991211  7275.155762  7275.155762   \n",
       "2019-12-26  7274.799316  7388.302734  7200.386719  7238.966797  7238.966797   \n",
       "2019-12-27  7238.141113  7363.529297  7189.934082  7290.088379  7290.088379   \n",
       "\n",
       "                 Volume  \n",
       "Date                     \n",
       "2019-12-23  27831788041  \n",
       "2019-12-24  22991622105  \n",
       "2019-12-25  21559505148  \n",
       "2019-12-26  22787010034  \n",
       "2019-12-27  22777360995  "
      ]
     },
     "execution_count": 62,
     "metadata": {},
     "output_type": "execute_result"
    }
   ],
   "source": [
    "# Read btc file and index on date\n",
    "btc_df = pd.read_csv(Path('BTC-USD.csv'), index_col='Date', parse_dates=True)\n",
    "btc_df.head()"
   ]
  },
  {
   "cell_type": "code",
   "execution_count": 63,
   "metadata": {},
   "outputs": [
    {
     "data": {
      "text/html": [
       "<div>\n",
       "<style scoped>\n",
       "    .dataframe tbody tr th:only-of-type {\n",
       "        vertical-align: middle;\n",
       "    }\n",
       "\n",
       "    .dataframe tbody tr th {\n",
       "        vertical-align: top;\n",
       "    }\n",
       "\n",
       "    .dataframe thead th {\n",
       "        text-align: right;\n",
       "    }\n",
       "</style>\n",
       "<table border=\"1\" class=\"dataframe\">\n",
       "  <thead>\n",
       "    <tr style=\"text-align: right;\">\n",
       "      <th></th>\n",
       "      <th>Open</th>\n",
       "      <th>High</th>\n",
       "      <th>Low</th>\n",
       "      <th>Close</th>\n",
       "      <th>Adj Close</th>\n",
       "      <th>Volume</th>\n",
       "    </tr>\n",
       "    <tr>\n",
       "      <th>Date</th>\n",
       "      <th></th>\n",
       "      <th></th>\n",
       "      <th></th>\n",
       "      <th></th>\n",
       "      <th></th>\n",
       "      <th></th>\n",
       "    </tr>\n",
       "  </thead>\n",
       "  <tbody>\n",
       "    <tr>\n",
       "      <th>2020-12-19</th>\n",
       "      <td>23132.865234</td>\n",
       "      <td>24085.855469</td>\n",
       "      <td>22826.472656</td>\n",
       "      <td>23869.832031</td>\n",
       "      <td>23869.832031</td>\n",
       "      <td>38487546580</td>\n",
       "    </tr>\n",
       "    <tr>\n",
       "      <th>2020-12-20</th>\n",
       "      <td>23861.765625</td>\n",
       "      <td>24209.660156</td>\n",
       "      <td>23147.710938</td>\n",
       "      <td>23477.294922</td>\n",
       "      <td>23477.294922</td>\n",
       "      <td>37844228422</td>\n",
       "    </tr>\n",
       "    <tr>\n",
       "      <th>2020-12-21</th>\n",
       "      <td>23474.455078</td>\n",
       "      <td>24059.982422</td>\n",
       "      <td>22159.367188</td>\n",
       "      <td>22803.082031</td>\n",
       "      <td>22803.082031</td>\n",
       "      <td>45852713981</td>\n",
       "    </tr>\n",
       "    <tr>\n",
       "      <th>2020-12-22</th>\n",
       "      <td>22794.039063</td>\n",
       "      <td>23789.902344</td>\n",
       "      <td>22430.605469</td>\n",
       "      <td>23783.029297</td>\n",
       "      <td>23783.029297</td>\n",
       "      <td>44171632681</td>\n",
       "    </tr>\n",
       "    <tr>\n",
       "      <th>2020-12-23</th>\n",
       "      <td>23527.626953</td>\n",
       "      <td>23999.853516</td>\n",
       "      <td>22992.117188</td>\n",
       "      <td>23626.632813</td>\n",
       "      <td>23626.632813</td>\n",
       "      <td>49100566528</td>\n",
       "    </tr>\n",
       "  </tbody>\n",
       "</table>\n",
       "</div>"
      ],
      "text/plain": [
       "                    Open          High           Low         Close  \\\n",
       "Date                                                                 \n",
       "2020-12-19  23132.865234  24085.855469  22826.472656  23869.832031   \n",
       "2020-12-20  23861.765625  24209.660156  23147.710938  23477.294922   \n",
       "2020-12-21  23474.455078  24059.982422  22159.367188  22803.082031   \n",
       "2020-12-22  22794.039063  23789.902344  22430.605469  23783.029297   \n",
       "2020-12-23  23527.626953  23999.853516  22992.117188  23626.632813   \n",
       "\n",
       "               Adj Close       Volume  \n",
       "Date                                   \n",
       "2020-12-19  23869.832031  38487546580  \n",
       "2020-12-20  23477.294922  37844228422  \n",
       "2020-12-21  22803.082031  45852713981  \n",
       "2020-12-22  23783.029297  44171632681  \n",
       "2020-12-23  23626.632813  49100566528  "
      ]
     },
     "execution_count": 63,
     "metadata": {},
     "output_type": "execute_result"
    }
   ],
   "source": [
    "btc_df.tail()"
   ]
  },
  {
   "cell_type": "code",
   "execution_count": null,
   "metadata": {},
   "outputs": [],
   "source": []
  },
  {
   "cell_type": "markdown",
   "metadata": {},
   "source": [
    "##### 2. Cleanup, Explore and Prepare Datafile"
   ]
  },
  {
   "cell_type": "code",
   "execution_count": 64,
   "metadata": {},
   "outputs": [
    {
     "data": {
      "text/plain": [
       "Index(['Open', 'High', 'Low', 'Close', 'Adj Close', 'Volume'], dtype='object')"
      ]
     },
     "execution_count": 64,
     "metadata": {},
     "output_type": "execute_result"
    }
   ],
   "source": [
    "# Inspect column names\n",
    "btc_df.columns"
   ]
  },
  {
   "cell_type": "code",
   "execution_count": 65,
   "metadata": {},
   "outputs": [
    {
     "data": {
      "text/html": [
       "<div>\n",
       "<style scoped>\n",
       "    .dataframe tbody tr th:only-of-type {\n",
       "        vertical-align: middle;\n",
       "    }\n",
       "\n",
       "    .dataframe tbody tr th {\n",
       "        vertical-align: top;\n",
       "    }\n",
       "\n",
       "    .dataframe thead th {\n",
       "        text-align: right;\n",
       "    }\n",
       "</style>\n",
       "<table border=\"1\" class=\"dataframe\">\n",
       "  <thead>\n",
       "    <tr style=\"text-align: right;\">\n",
       "      <th></th>\n",
       "      <th>Adj Close</th>\n",
       "      <th>Volume</th>\n",
       "    </tr>\n",
       "    <tr>\n",
       "      <th>Date</th>\n",
       "      <th></th>\n",
       "      <th></th>\n",
       "    </tr>\n",
       "  </thead>\n",
       "  <tbody>\n",
       "    <tr>\n",
       "      <th>2019-12-23</th>\n",
       "      <td>7355.628418</td>\n",
       "      <td>27831788041</td>\n",
       "    </tr>\n",
       "    <tr>\n",
       "      <th>2019-12-24</th>\n",
       "      <td>7322.532227</td>\n",
       "      <td>22991622105</td>\n",
       "    </tr>\n",
       "    <tr>\n",
       "      <th>2019-12-25</th>\n",
       "      <td>7275.155762</td>\n",
       "      <td>21559505148</td>\n",
       "    </tr>\n",
       "    <tr>\n",
       "      <th>2019-12-26</th>\n",
       "      <td>7238.966797</td>\n",
       "      <td>22787010034</td>\n",
       "    </tr>\n",
       "    <tr>\n",
       "      <th>2019-12-27</th>\n",
       "      <td>7290.088379</td>\n",
       "      <td>22777360995</td>\n",
       "    </tr>\n",
       "  </tbody>\n",
       "</table>\n",
       "</div>"
      ],
      "text/plain": [
       "              Adj Close       Volume\n",
       "Date                                \n",
       "2019-12-23  7355.628418  27831788041\n",
       "2019-12-24  7322.532227  22991622105\n",
       "2019-12-25  7275.155762  21559505148\n",
       "2019-12-26  7238.966797  22787010034\n",
       "2019-12-27  7290.088379  22777360995"
      ]
     },
     "execution_count": 65,
     "metadata": {},
     "output_type": "execute_result"
    }
   ],
   "source": [
    "# Drop non-essential columns, i.e. Keep 'Adj Close' and 'Volume'\n",
    "btc_df = btc_df[['Adj Close', 'Volume']]\n",
    "btc_df.head()"
   ]
  },
  {
   "cell_type": "code",
   "execution_count": 66,
   "metadata": {},
   "outputs": [
    {
     "data": {
      "text/html": [
       "<div>\n",
       "<style scoped>\n",
       "    .dataframe tbody tr th:only-of-type {\n",
       "        vertical-align: middle;\n",
       "    }\n",
       "\n",
       "    .dataframe tbody tr th {\n",
       "        vertical-align: top;\n",
       "    }\n",
       "\n",
       "    .dataframe thead th {\n",
       "        text-align: right;\n",
       "    }\n",
       "</style>\n",
       "<table border=\"1\" class=\"dataframe\">\n",
       "  <thead>\n",
       "    <tr style=\"text-align: right;\">\n",
       "      <th></th>\n",
       "      <th>Close</th>\n",
       "      <th>Volume</th>\n",
       "    </tr>\n",
       "    <tr>\n",
       "      <th>Date</th>\n",
       "      <th></th>\n",
       "      <th></th>\n",
       "    </tr>\n",
       "  </thead>\n",
       "  <tbody>\n",
       "    <tr>\n",
       "      <th>2019-12-23</th>\n",
       "      <td>7355.628418</td>\n",
       "      <td>27831788041</td>\n",
       "    </tr>\n",
       "    <tr>\n",
       "      <th>2019-12-24</th>\n",
       "      <td>7322.532227</td>\n",
       "      <td>22991622105</td>\n",
       "    </tr>\n",
       "    <tr>\n",
       "      <th>2019-12-25</th>\n",
       "      <td>7275.155762</td>\n",
       "      <td>21559505148</td>\n",
       "    </tr>\n",
       "    <tr>\n",
       "      <th>2019-12-26</th>\n",
       "      <td>7238.966797</td>\n",
       "      <td>22787010034</td>\n",
       "    </tr>\n",
       "    <tr>\n",
       "      <th>2019-12-27</th>\n",
       "      <td>7290.088379</td>\n",
       "      <td>22777360995</td>\n",
       "    </tr>\n",
       "  </tbody>\n",
       "</table>\n",
       "</div>"
      ],
      "text/plain": [
       "                  Close       Volume\n",
       "Date                                \n",
       "2019-12-23  7355.628418  27831788041\n",
       "2019-12-24  7322.532227  22991622105\n",
       "2019-12-25  7275.155762  21559505148\n",
       "2019-12-26  7238.966797  22787010034\n",
       "2019-12-27  7290.088379  22777360995"
      ]
     },
     "execution_count": 66,
     "metadata": {},
     "output_type": "execute_result"
    }
   ],
   "source": [
    "# Rename 'Adj Close' to 'Clsoe'\n",
    "btc_df = btc_df.rename(columns = {'Adj Close': 'Close'})\n",
    "btc_df.head()"
   ]
  },
  {
   "cell_type": "code",
   "execution_count": 67,
   "metadata": {},
   "outputs": [
    {
     "data": {
      "text/plain": [
       "Close     float64\n",
       "Volume      int64\n",
       "dtype: object"
      ]
     },
     "execution_count": 67,
     "metadata": {},
     "output_type": "execute_result"
    }
   ],
   "source": [
    "# Check data types\n",
    "btc_df.dtypes"
   ]
  },
  {
   "cell_type": "code",
   "execution_count": 68,
   "metadata": {},
   "outputs": [
    {
     "data": {
      "text/plain": [
       "Close     0\n",
       "Volume    0\n",
       "dtype: int64"
      ]
     },
     "execution_count": 68,
     "metadata": {},
     "output_type": "execute_result"
    }
   ],
   "source": [
    "# Check for nissing values, NA and NULL\n",
    "btc_df.isna().sum()"
   ]
  },
  {
   "cell_type": "code",
   "execution_count": 69,
   "metadata": {},
   "outputs": [
    {
     "data": {
      "text/plain": [
       "Close     0\n",
       "Volume    0\n",
       "dtype: int64"
      ]
     },
     "execution_count": 69,
     "metadata": {},
     "output_type": "execute_result"
    }
   ],
   "source": [
    "btc_df.isnull().sum()"
   ]
  },
  {
   "cell_type": "code",
   "execution_count": 70,
   "metadata": {},
   "outputs": [
    {
     "data": {
      "text/plain": [
       "Close     False\n",
       "Volume    False\n",
       "dtype: bool"
      ]
     },
     "execution_count": 70,
     "metadata": {},
     "output_type": "execute_result"
    }
   ],
   "source": [
    "# Alternate method to check for NAs and NULLs\n",
    "btc_df.isna().any()"
   ]
  },
  {
   "cell_type": "code",
   "execution_count": 71,
   "metadata": {},
   "outputs": [
    {
     "data": {
      "text/plain": [
       "Close     False\n",
       "Volume    False\n",
       "dtype: bool"
      ]
     },
     "execution_count": 71,
     "metadata": {},
     "output_type": "execute_result"
    }
   ],
   "source": [
    "btc_df.isnull().any()"
   ]
  },
  {
   "cell_type": "markdown",
   "metadata": {},
   "source": [
    "##### 3. Quick exploration of relationship between X and Y variables and visualization"
   ]
  },
  {
   "cell_type": "code",
   "execution_count": 72,
   "metadata": {},
   "outputs": [
    {
     "data": {
      "text/plain": [
       "<matplotlib.legend.Legend at 0x260f5fc8a48>"
      ]
     },
     "execution_count": 72,
     "metadata": {},
     "output_type": "execute_result"
    },
    {
     "data": {
      "image/png": "[encoded data removed]",
      "text/plain": [
       "<Figure size 432x288 with 1 Axes>"
      ]
     },
     "metadata": {
      "needs_background": "light"
     },
     "output_type": "display_data"
    }
   ],
   "source": [
    "# Plot X independent variable (volume) agains y dependent variable (btc-usd price)\n",
    "x = btc_df.Volume\n",
    "y = btc_df.Close\n",
    "\n",
    "# Create scatter plot\n",
    "plt.plot(x, y, '+', color='cadetblue', label = 'BTC-USD v Volume')\n",
    "\n",
    "# Format chart\n",
    "plt.title('Bitcoin Price vs Volume (proxy for Adoption Rate)')\n",
    "plt.xlabel('Bitcoin Volume in 10 Millions')\n",
    "plt.ylabel('Bitcoin-USD Closing Price')\n",
    "plt.legend()"
   ]
  },
  {
   "cell_type": "code",
   "execution_count": 73,
   "metadata": {},
   "outputs": [
    {
     "data": {
      "text/html": [
       "<div>\n",
       "<style scoped>\n",
       "    .dataframe tbody tr th:only-of-type {\n",
       "        vertical-align: middle;\n",
       "    }\n",
       "\n",
       "    .dataframe tbody tr th {\n",
       "        vertical-align: top;\n",
       "    }\n",
       "\n",
       "    .dataframe thead th {\n",
       "        text-align: right;\n",
       "    }\n",
       "</style>\n",
       "<table border=\"1\" class=\"dataframe\">\n",
       "  <thead>\n",
       "    <tr style=\"text-align: right;\">\n",
       "      <th></th>\n",
       "      <th>Close</th>\n",
       "      <th>Volume</th>\n",
       "    </tr>\n",
       "  </thead>\n",
       "  <tbody>\n",
       "    <tr>\n",
       "      <th>Close</th>\n",
       "      <td>1.000000</td>\n",
       "      <td>0.071656</td>\n",
       "    </tr>\n",
       "    <tr>\n",
       "      <th>Volume</th>\n",
       "      <td>0.071656</td>\n",
       "      <td>1.000000</td>\n",
       "    </tr>\n",
       "  </tbody>\n",
       "</table>\n",
       "</div>"
      ],
      "text/plain": [
       "           Close    Volume\n",
       "Close   1.000000  0.071656\n",
       "Volume  0.071656  1.000000"
      ]
     },
     "execution_count": 73,
     "metadata": {},
     "output_type": "execute_result"
    }
   ],
   "source": [
    "# Outpout shows a low correlation; we explore with the correlation function\n",
    "btc_df.corr()"
   ]
  },
  {
   "cell_type": "code",
   "execution_count": 74,
   "metadata": {},
   "outputs": [
    {
     "name": "stdout",
     "output_type": "stream",
     "text": [
      "The Correlation between BTC Price and Volume is: 0.07165648838763929\n"
     ]
    }
   ],
   "source": [
    "print(f\"The Correlation between BTC Price and Volume is: {btc_df.corr().Volume[0]}\")"
   ]
  },
  {
   "cell_type": "markdown",
   "metadata": {},
   "source": [
    "##### The correlation between bitcoin price and volume appears extremely low which implies that volume is also a bad proxy for adoption rate"
   ]
  },
  {
   "cell_type": "code",
   "execution_count": 75,
   "metadata": {},
   "outputs": [
    {
     "data": {
      "text/html": [
       "<div>\n",
       "<style scoped>\n",
       "    .dataframe tbody tr th:only-of-type {\n",
       "        vertical-align: middle;\n",
       "    }\n",
       "\n",
       "    .dataframe tbody tr th {\n",
       "        vertical-align: top;\n",
       "    }\n",
       "\n",
       "    .dataframe thead th {\n",
       "        text-align: right;\n",
       "    }\n",
       "</style>\n",
       "<table border=\"1\" class=\"dataframe\">\n",
       "  <thead>\n",
       "    <tr style=\"text-align: right;\">\n",
       "      <th></th>\n",
       "      <th>Close</th>\n",
       "      <th>Volume</th>\n",
       "    </tr>\n",
       "  </thead>\n",
       "  <tbody>\n",
       "    <tr>\n",
       "      <th>count</th>\n",
       "      <td>367.000000</td>\n",
       "      <td>3.670000e+02</td>\n",
       "    </tr>\n",
       "    <tr>\n",
       "      <th>mean</th>\n",
       "      <td>10684.989089</td>\n",
       "      <td>3.130236e+10</td>\n",
       "    </tr>\n",
       "    <tr>\n",
       "      <th>std</th>\n",
       "      <td>3651.193134</td>\n",
       "      <td>1.110057e+10</td>\n",
       "    </tr>\n",
       "    <tr>\n",
       "      <th>min</th>\n",
       "      <td>4970.788086</td>\n",
       "      <td>1.225260e+10</td>\n",
       "    </tr>\n",
       "    <tr>\n",
       "      <th>25%</th>\n",
       "      <td>8789.077149</td>\n",
       "      <td>2.278219e+10</td>\n",
       "    </tr>\n",
       "    <tr>\n",
       "      <th>50%</th>\n",
       "      <td>9653.679688</td>\n",
       "      <td>3.030646e+10</td>\n",
       "    </tr>\n",
       "    <tr>\n",
       "      <th>75%</th>\n",
       "      <td>11501.107422</td>\n",
       "      <td>3.862098e+10</td>\n",
       "    </tr>\n",
       "    <tr>\n",
       "      <th>max</th>\n",
       "      <td>23869.832031</td>\n",
       "      <td>7.415677e+10</td>\n",
       "    </tr>\n",
       "  </tbody>\n",
       "</table>\n",
       "</div>"
      ],
      "text/plain": [
       "              Close        Volume\n",
       "count    367.000000  3.670000e+02\n",
       "mean   10684.989089  3.130236e+10\n",
       "std     3651.193134  1.110057e+10\n",
       "min     4970.788086  1.225260e+10\n",
       "25%     8789.077149  2.278219e+10\n",
       "50%     9653.679688  3.030646e+10\n",
       "75%    11501.107422  3.862098e+10\n",
       "max    23869.832031  7.415677e+10"
      ]
     },
     "execution_count": 75,
     "metadata": {},
     "output_type": "execute_result"
    }
   ],
   "source": [
    "# Descriptive Statistics\n",
    "btc_df.describe()"
   ]
  },
  {
   "cell_type": "code",
   "execution_count": 76,
   "metadata": {},
   "outputs": [
    {
     "data": {
      "text/plain": [
       "array([[<matplotlib.axes._subplots.AxesSubplot object at 0x00000260F785E7C8>,\n",
       "        <matplotlib.axes._subplots.AxesSubplot object at 0x00000260F5F12488>]],\n",
       "      dtype=object)"
      ]
     },
     "execution_count": 76,
     "metadata": {},
     "output_type": "execute_result"
    },
    {
     "data": {
      "image/png": "[encoded data removed]",
      "text/plain": [
       "<Figure size 432x288 with 2 Axes>"
      ]
     },
     "metadata": {
      "needs_background": "light"
     },
     "output_type": "display_data"
    }
   ],
   "source": [
    "# Use histogram to visualize any outliers\n",
    "btc_df.hist(grid = False, color = 'cadetblue')"
   ]
  },
  {
   "cell_type": "markdown",
   "metadata": {},
   "source": [
    "##### Skewed with higher frequency of date on the left of each historgram"
   ]
  },
  {
   "cell_type": "code",
   "execution_count": 77,
   "metadata": {},
   "outputs": [
    {
     "name": "stdout",
     "output_type": "stream",
     "text": [
      "Bitcoin Price Excess Kurtosis: 2.2372703933741205\n",
      "Bitcoin Volume Excess Kurtosis: 0.4776226624025597\n",
      "Bitcoin Price Skewness: 1.5297677047680003\n",
      "Bitcoin Volume Skewness: 0.705285041669514\n"
     ]
    }
   ],
   "source": [
    "# Calculate kurtosis and skewness\n",
    "\n",
    "# Kurtosis\n",
    "price_kurtosis = kurtosis(btc_df.Close, fisher = True)\n",
    "volume_kurtosis = kurtosis(btc_df.Volume, fisher = True)\n",
    "\n",
    "print(f\"Bitcoin Price Excess Kurtosis: {price_kurtosis}\")\n",
    "print(f\"Bitcoin Volume Excess Kurtosis: {volume_kurtosis}\")\n",
    "\n",
    "# Skewness\n",
    "price_skewness = skew(btc_df.Close)\n",
    "volume_skewness = skew(btc_df.Volume)\n",
    "\n",
    "\n",
    "print(f\"Bitcoin Price Skewness: {price_skewness}\")\n",
    "print(f\"Bitcoin Volume Skewness: {volume_skewness}\")\n"
   ]
  },
  {
   "cell_type": "markdown",
   "metadata": {},
   "source": [
    "##### Bitcoin Price exhibit more excess kurtosis than the volume, this means that the price has more distribution away from teh mean, hence the higher excess as opposed to volume. While both have excessess kurtosis\n",
    "##### the histograms also prove that volume has fewer distribution away from the mean than price\n",
    "\n",
    "##### Similar to kurtosis, price shows far less assementry than volume; similar explanation from kurtosis applies to skewness. THE NUMBERS DON'T LIE"
   ]
  },
  {
   "cell_type": "code",
   "execution_count": null,
   "metadata": {},
   "outputs": [],
   "source": []
  },
  {
   "cell_type": "markdown",
   "metadata": {},
   "source": [
    "##### 4. Build The Regression Model"
   ]
  },
  {
   "cell_type": "code",
   "execution_count": 78,
   "metadata": {},
   "outputs": [
    {
     "data": {
      "text/plain": [
       "LinearRegression(copy_X=True, fit_intercept=True, n_jobs=None, normalize=False)"
      ]
     },
     "execution_count": 78,
     "metadata": {},
     "output_type": "execute_result"
    }
   ],
   "source": [
    "# Create the model with scikit-learn\n",
    "model = LinearRegression()\n",
    "model"
   ]
  },
  {
   "cell_type": "code",
   "execution_count": 83,
   "metadata": {},
   "outputs": [
    {
     "name": "stdout",
     "output_type": "stream",
     "text": [
      "Volume: [[27831788041]\n",
      " [22991622105]\n",
      " [21559505148]\n",
      " [22787010034]\n",
      " [22777360995]]\n",
      "Bitcoin Price: [[7355.628418]\n",
      " [7322.532227]\n",
      " [7275.155762]\n",
      " [7238.966797]\n",
      " [7290.088379]]\n"
     ]
    }
   ],
   "source": [
    "X = btc_df[['Volume']].values\n",
    "y = btc_df[['Close']].values\n",
    "\n",
    "print(f\"Volume: {X[:5]}\")\n",
    "print(f\"Bitcoin Price: {y[:5]}\")"
   ]
  },
  {
   "cell_type": "code",
   "execution_count": 85,
   "metadata": {},
   "outputs": [
    {
     "data": {
      "text/plain": [
       "LinearRegression(copy_X=True, fit_intercept=True, n_jobs=None, normalize=False)"
      ]
     },
     "execution_count": 85,
     "metadata": {},
     "output_type": "execute_result"
    }
   ],
   "source": [
    "# Fit data into the model\n",
    "model.fit(X, y)"
   ]
  },
  {
   "cell_type": "code",
   "execution_count": 86,
   "metadata": {},
   "outputs": [
    {
     "name": "stdout",
     "output_type": "stream",
     "text": [
      "[[2.35692074e-08]]\n"
     ]
    }
   ],
   "source": [
    "# Coefficient of the Linear Regression Model\n",
    "print(model.coef_)"
   ]
  },
  {
   "cell_type": "markdown",
   "metadata": {},
   "source": [
    "##### Coefficient if very small"
   ]
  },
  {
   "cell_type": "code",
   "execution_count": 87,
   "metadata": {},
   "outputs": [
    {
     "name": "stdout",
     "output_type": "stream",
     "text": [
      "[9947.21739296]\n"
     ]
    }
   ],
   "source": [
    "# y Intercept\n",
    "print(model.intercept_)"
   ]
  },
  {
   "cell_type": "code",
   "execution_count": 88,
   "metadata": {},
   "outputs": [],
   "source": [
    "# Predicted y values based on X values\n",
    "predicted_y = model.predict(X)"
   ]
  },
  {
   "cell_type": "code",
   "execution_count": 89,
   "metadata": {},
   "outputs": [
    {
     "data": {
      "text/plain": [
       "[<matplotlib.lines.Line2D at 0x260f7929c88>]"
      ]
     },
     "execution_count": 89,
     "metadata": {},
     "output_type": "execute_result"
    },
    {
     "data": {
      "image/png": "[encoded data removed]",
      "text/plain": [
       "<Figure size 432x288 with 1 Axes>"
      ]
     },
     "metadata": {
      "needs_background": "light"
     },
     "output_type": "display_data"
    }
   ],
   "source": [
    "# Plot the results. The best fit is the red line\n",
    "plt.scatter(X, y)\n",
    "plt.plot(X, predicted_y, color='red')"
   ]
  },
  {
   "cell_type": "code",
   "execution_count": 90,
   "metadata": {},
   "outputs": [
    {
     "data": {
      "text/plain": [
       "0.005134652328047995"
      ]
     },
     "execution_count": 90,
     "metadata": {},
     "output_type": "execute_result"
    }
   ],
   "source": [
    "# R2 Score the Model\n",
    "model.score(X, y, sample_weight=None)"
   ]
  },
  {
   "cell_type": "markdown",
   "metadata": {},
   "source": [
    "##### There is absolutely NO relatonship between Bitcoin price and volume, hence, volume is an incorrect proxy for adoption rate"
   ]
  },
  {
   "cell_type": "code",
   "execution_count": 91,
   "metadata": {},
   "outputs": [
    {
     "data": {
      "text/plain": [
       "9947.217392957624"
      ]
     },
     "execution_count": 91,
     "metadata": {},
     "output_type": "execute_result"
    }
   ],
   "source": [
    "# Alternate method for calculating intercept and coefficient\n",
    "model.intercept_[0]"
   ]
  },
  {
   "cell_type": "code",
   "execution_count": 93,
   "metadata": {},
   "outputs": [
    {
     "data": {
      "text/plain": [
       "2.3569207352772504e-08"
      ]
     },
     "execution_count": 93,
     "metadata": {},
     "output_type": "execute_result"
    }
   ],
   "source": [
    "model.coef_[0][0]"
   ]
  },
  {
   "cell_type": "code",
   "execution_count": 94,
   "metadata": {},
   "outputs": [
    {
     "data": {
      "text/plain": [
       "array([[10603.19057629],\n",
       "       [10489.11170173],\n",
       "       [10455.35784021],\n",
       "       [10484.2891574 ],\n",
       "       [10484.0617372 ]])"
      ]
     },
     "execution_count": 94,
     "metadata": {},
     "output_type": "execute_result"
    }
   ],
   "source": [
    "# Show a sample of the predicted y values\n",
    "predicted_y[:5]"
   ]
  },
  {
   "cell_type": "code",
   "execution_count": null,
   "metadata": {},
   "outputs": [],
   "source": []
  },
  {
   "cell_type": "markdown",
   "metadata": {},
   "source": [
    "##### 5. Evaluating the Model"
   ]
  },
  {
   "cell_type": "code",
   "execution_count": 96,
   "metadata": {},
   "outputs": [],
   "source": [
    "# Define the input\n",
    "X2 = sm.add_constant(X)\n",
    "\n",
    "# Create an OLS Model\n",
    "model = sm.OLS(y, X2)\n",
    "\n",
    "# Fit the data\n",
    "est = model.fit()\n"
   ]
  },
  {
   "cell_type": "code",
   "execution_count": 97,
   "metadata": {},
   "outputs": [
    {
     "data": {
      "text/plain": [
       "array([[ 8.82584668e+03,  1.10685881e+04],\n",
       "       [-1.01996002e-08,  5.73380149e-08]])"
      ]
     },
     "execution_count": 97,
     "metadata": {},
     "output_type": "execute_result"
    }
   ],
   "source": [
    "# Confidence Interval @ 95%\n",
    "est.conf_int()"
   ]
  },
  {
   "cell_type": "code",
   "execution_count": 100,
   "metadata": {},
   "outputs": [
    {
     "name": "stdout",
     "output_type": "stream",
     "text": [
      "Constant @ 95% Confidence Interval : [ 8825.84667753 11068.58810838]\n",
      "Bitcoin Price @ 95% Confidence Interval: [-1.01996002e-08  5.73380149e-08]\n"
     ]
    }
   ],
   "source": [
    "print(f\"Constant @ 95% Confidence Interval : {est.conf_int()[0]}\")\n",
    "print(f\"Bitcoin Price @ 95% Confidence Interval: {est.conf_int()[1]}\")"
   ]
  },
  {
   "cell_type": "code",
   "execution_count": 105,
   "metadata": {},
   "outputs": [
    {
     "data": {
      "text/plain": [
       "5.422896498814865e-50"
      ]
     },
     "execution_count": 105,
     "metadata": {},
     "output_type": "execute_result"
    }
   ],
   "source": [
    "# Hypothesis Testng\n",
    "# 1. Null Hypothesis: There is a relatiohship b/w BTC Price and Volume; Reject if p-value < 0.05 as there is strong evidence that the null hypothesis is invalid\n",
    "# 2. Alternate Hypothesis: There is No relatiohship between BTC-Price and Volume; Accept the alternate hypothesis if p-value < 0.05\n",
    "\n",
    "# Estimate the p-values\n",
    "est.pvalues[0]"
   ]
  },
  {
   "cell_type": "code",
   "execution_count": 106,
   "metadata": {},
   "outputs": [
    {
     "name": "stdout",
     "output_type": "stream",
     "text": [
      "The p-value of 5.422896498814865e-50 is less than 5%, therefore Reject the Null Hypothesis; There is no relationship between Bitcoin Price and Volume\n"
     ]
    }
   ],
   "source": [
    "if est.pvalues[0] <= 0.05:\n",
    "    print(f\"The p-value of {est.pvalues[0]} is less than 5%, therefore Reject the Null Hypothesis; There is no relationship between Bitcoin Price and Volume\")"
   ]
  },
  {
   "cell_type": "code",
   "execution_count": 104,
   "metadata": {},
   "outputs": [
    {
     "data": {
      "text/plain": [
       "5.422896498814865e-50"
      ]
     },
     "execution_count": 104,
     "metadata": {},
     "output_type": "execute_result"
    }
   ],
   "source": [
    "est.pvalues[0]"
   ]
  },
  {
   "cell_type": "code",
   "execution_count": 108,
   "metadata": {},
   "outputs": [
    {
     "name": "stdout",
     "output_type": "stream",
     "text": [
      "                            OLS Regression Results                            \n",
      "==============================================================================\n",
      "Dep. Variable:                      y   R-squared:                       0.005\n",
      "Model:                            OLS   Adj. R-squared:                  0.002\n",
      "Method:                 Least Squares   F-statistic:                     1.884\n",
      "Date:                Wed, 23 Dec 2020   Prob (F-statistic):              0.171\n",
      "Time:                        18:18:14   Log-Likelihood:                -3529.7\n",
      "No. Observations:                 367   AIC:                             7063.\n",
      "Df Residuals:                     365   BIC:                             7071.\n",
      "Df Model:                           1                                         \n",
      "Covariance Type:            nonrobust                                         \n",
      "==============================================================================\n",
      "                 coef    std err          t      P>|t|      [0.025      0.975]\n",
      "------------------------------------------------------------------------------\n",
      "const       9947.2174    570.241     17.444      0.000    8825.847    1.11e+04\n",
      "x1          2.357e-08   1.72e-08      1.373      0.171   -1.02e-08    5.73e-08\n",
      "==============================================================================\n",
      "Omnibus:                       95.066   Durbin-Watson:                   0.012\n",
      "Prob(Omnibus):                  0.000   Jarque-Bera (JB):              181.099\n",
      "Skew:                           1.415   Prob(JB):                     4.73e-40\n",
      "Kurtosis:                       4.958   Cond. No.                     9.95e+10\n",
      "==============================================================================\n",
      "\n",
      "Warnings:\n",
      "[1] Standard Errors assume that the covariance matrix of the errors is correctly specified.\n",
      "[2] The condition number is large, 9.95e+10. This might indicate that there are\n",
      "strong multicollinearity or other numerical problems.\n"
     ]
    }
   ],
   "source": [
    "##### 5. Summary of Output\n",
    "print(est.summary())"
   ]
  },
  {
   "cell_type": "code",
   "execution_count": null,
   "metadata": {},
   "outputs": [],
   "source": []
  }
 ],
 "metadata": {
  "kernelspec": {
   "display_name": "Python 3",
   "language": "python",
   "name": "python3"
  },
  "language_info": {
   "codemirror_mode": {
    "name": "ipython",
    "version": 3
   },
   "file_extension": ".py",
   "mimetype": "text/x-python",
   "name": "python",
   "nbconvert_exporter": "python",
   "pygments_lexer": "ipython3",
   "version": "3.7.7"
  }
 },
 "nbformat": 4,
 "nbformat_minor": 4
}
